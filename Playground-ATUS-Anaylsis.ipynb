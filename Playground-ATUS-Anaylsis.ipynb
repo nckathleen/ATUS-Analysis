{
 "cells": [
  {
   "cell_type": "code",
   "execution_count": 32,
   "metadata": {
    "collapsed": false
   },
   "outputs": [],
   "source": [
    "import pandas as pd\n",
    "import numpy as np\n",
    "import pylab\n",
    "import matplotlib.pyplot as plt\n",
    "\n",
    "%matplotlib inline\n"
   ]
  },
  {
   "cell_type": "code",
   "execution_count": 33,
   "metadata": {
    "collapsed": false
   },
   "outputs": [],
   "source": [
    "# respondents = pd.read_csv('data/atusresp_2014.dat')\n",
    "# roster = pd.read_csv('data/atusrost_2014.dat')\n",
    "# activity = pd.read_csv('data/atusact_2014.dat')\n",
    "\n",
    "summary = pd.read_csv('data/atussum_2014.dat')\n",
    "from summary_data import *\n",
    "summary = summary.rename(columns=all_cols)\n"
   ]
  },
  {
   "cell_type": "code",
   "execution_count": 34,
   "metadata": {
    "collapsed": false
   },
   "outputs": [
    {
     "name": "stdout",
     "output_type": "stream",
     "text": [
      "<class 'pandas.core.frame.DataFrame'>\n",
      "Int64Index: 11592 entries, 0 to 11591\n",
      "Columns: 409 entries, case_id to Unable to code activity at 1st tier\n",
      "dtypes: float64(1), int64(408)\n",
      "memory usage: 36.3 MB\n"
     ]
    }
   ],
   "source": [
    "summary.info()"
   ]
  },
  {
   "cell_type": "code",
   "execution_count": 35,
   "metadata": {
    "collapsed": false,
    "scrolled": false
   },
   "outputs": [
    {
     "data": {
      "text/html": [
       "<div>\n",
       "<table border=\"1\" class=\"dataframe\">\n",
       "  <thead>\n",
       "    <tr style=\"text-align: right;\">\n",
       "      <th></th>\n",
       "      <th>case_id</th>\n",
       "      <th>stat_weight</th>\n",
       "      <th>age_youngest_child</th>\n",
       "      <th>age</th>\n",
       "      <th>sex</th>\n",
       "      <th>high_lvl_edu</th>\n",
       "      <th>race</th>\n",
       "      <th>hisp</th>\n",
       "      <th>metro</th>\n",
       "      <th>labor_status</th>\n",
       "      <th>...</th>\n",
       "      <th>Travel related to phone calls</th>\n",
       "      <th>Travel rel. to phone calls, n.e.c.*</th>\n",
       "      <th>Security procedures related to traveling</th>\n",
       "      <th>Security procedures related to traveling, n.e.c.*</th>\n",
       "      <th>Traveling, n.e.c.*</th>\n",
       "      <th>Insufficient detail in verbatim</th>\n",
       "      <th>Missing travel or destination</th>\n",
       "      <th>Respondent refused to provide information/'none of your business'</th>\n",
       "      <th>Gap/can't remember</th>\n",
       "      <th>Unable to code activity at 1st tier</th>\n",
       "    </tr>\n",
       "  </thead>\n",
       "  <tbody>\n",
       "    <tr>\n",
       "      <th>0</th>\n",
       "      <td>20140101140007</td>\n",
       "      <td>4891315.826760</td>\n",
       "      <td>0</td>\n",
       "      <td>20</td>\n",
       "      <td>2</td>\n",
       "      <td>39</td>\n",
       "      <td>1</td>\n",
       "      <td>1</td>\n",
       "      <td>1</td>\n",
       "      <td>4</td>\n",
       "      <td>...</td>\n",
       "      <td>0</td>\n",
       "      <td>0</td>\n",
       "      <td>0</td>\n",
       "      <td>0</td>\n",
       "      <td>0</td>\n",
       "      <td>0</td>\n",
       "      <td>0</td>\n",
       "      <td>0</td>\n",
       "      <td>0</td>\n",
       "      <td>0</td>\n",
       "    </tr>\n",
       "    <tr>\n",
       "      <th>1</th>\n",
       "      <td>20140101140011</td>\n",
       "      <td>23147368.359655</td>\n",
       "      <td>16</td>\n",
       "      <td>16</td>\n",
       "      <td>2</td>\n",
       "      <td>37</td>\n",
       "      <td>2</td>\n",
       "      <td>2</td>\n",
       "      <td>1</td>\n",
       "      <td>1</td>\n",
       "      <td>...</td>\n",
       "      <td>0</td>\n",
       "      <td>0</td>\n",
       "      <td>0</td>\n",
       "      <td>0</td>\n",
       "      <td>0</td>\n",
       "      <td>0</td>\n",
       "      <td>0</td>\n",
       "      <td>0</td>\n",
       "      <td>0</td>\n",
       "      <td>0</td>\n",
       "    </tr>\n",
       "    <tr>\n",
       "      <th>2</th>\n",
       "      <td>20140101140028</td>\n",
       "      <td>20941823.429044</td>\n",
       "      <td>2</td>\n",
       "      <td>65</td>\n",
       "      <td>2</td>\n",
       "      <td>38</td>\n",
       "      <td>1</td>\n",
       "      <td>1</td>\n",
       "      <td>1</td>\n",
       "      <td>5</td>\n",
       "      <td>...</td>\n",
       "      <td>0</td>\n",
       "      <td>0</td>\n",
       "      <td>0</td>\n",
       "      <td>0</td>\n",
       "      <td>0</td>\n",
       "      <td>0</td>\n",
       "      <td>0</td>\n",
       "      <td>0</td>\n",
       "      <td>0</td>\n",
       "      <td>0</td>\n",
       "    </tr>\n",
       "    <tr>\n",
       "      <th>3</th>\n",
       "      <td>20140101140063</td>\n",
       "      <td>2505899.417166</td>\n",
       "      <td>-1</td>\n",
       "      <td>50</td>\n",
       "      <td>2</td>\n",
       "      <td>39</td>\n",
       "      <td>2</td>\n",
       "      <td>2</td>\n",
       "      <td>2</td>\n",
       "      <td>5</td>\n",
       "      <td>...</td>\n",
       "      <td>0</td>\n",
       "      <td>0</td>\n",
       "      <td>0</td>\n",
       "      <td>0</td>\n",
       "      <td>0</td>\n",
       "      <td>0</td>\n",
       "      <td>0</td>\n",
       "      <td>0</td>\n",
       "      <td>0</td>\n",
       "      <td>0</td>\n",
       "    </tr>\n",
       "    <tr>\n",
       "      <th>4</th>\n",
       "      <td>20140101140168</td>\n",
       "      <td>15928231.823165</td>\n",
       "      <td>8</td>\n",
       "      <td>23</td>\n",
       "      <td>2</td>\n",
       "      <td>39</td>\n",
       "      <td>2</td>\n",
       "      <td>2</td>\n",
       "      <td>2</td>\n",
       "      <td>4</td>\n",
       "      <td>...</td>\n",
       "      <td>0</td>\n",
       "      <td>0</td>\n",
       "      <td>0</td>\n",
       "      <td>0</td>\n",
       "      <td>0</td>\n",
       "      <td>0</td>\n",
       "      <td>0</td>\n",
       "      <td>0</td>\n",
       "      <td>0</td>\n",
       "      <td>0</td>\n",
       "    </tr>\n",
       "  </tbody>\n",
       "</table>\n",
       "<p>5 rows × 409 columns</p>\n",
       "</div>"
      ],
      "text/plain": [
       "          case_id      stat_weight  age_youngest_child  age  sex  \\\n",
       "0  20140101140007   4891315.826760                   0   20    2   \n",
       "1  20140101140011  23147368.359655                  16   16    2   \n",
       "2  20140101140028  20941823.429044                   2   65    2   \n",
       "3  20140101140063   2505899.417166                  -1   50    2   \n",
       "4  20140101140168  15928231.823165                   8   23    2   \n",
       "\n",
       "   high_lvl_edu  race  hisp  metro  labor_status  \\\n",
       "0            39     1     1      1             4   \n",
       "1            37     2     2      1             1   \n",
       "2            38     1     1      1             5   \n",
       "3            39     2     2      2             5   \n",
       "4            39     2     2      2             4   \n",
       "\n",
       "                  ...                   Travel related to phone calls  \\\n",
       "0                 ...                                               0   \n",
       "1                 ...                                               0   \n",
       "2                 ...                                               0   \n",
       "3                 ...                                               0   \n",
       "4                 ...                                               0   \n",
       "\n",
       "   Travel rel. to phone calls, n.e.c.*  \\\n",
       "0                                    0   \n",
       "1                                    0   \n",
       "2                                    0   \n",
       "3                                    0   \n",
       "4                                    0   \n",
       "\n",
       "   Security procedures related to traveling  \\\n",
       "0                                         0   \n",
       "1                                         0   \n",
       "2                                         0   \n",
       "3                                         0   \n",
       "4                                         0   \n",
       "\n",
       "   Security procedures related to traveling, n.e.c.*  Traveling, n.e.c.*  \\\n",
       "0                                                  0                   0   \n",
       "1                                                  0                   0   \n",
       "2                                                  0                   0   \n",
       "3                                                  0                   0   \n",
       "4                                                  0                   0   \n",
       "\n",
       "   Insufficient detail in verbatim  Missing travel or destination  \\\n",
       "0                                0                              0   \n",
       "1                                0                              0   \n",
       "2                                0                              0   \n",
       "3                                0                              0   \n",
       "4                                0                              0   \n",
       "\n",
       "   Respondent refused to provide information/'none of your business'  \\\n",
       "0                                                  0                   \n",
       "1                                                  0                   \n",
       "2                                                  0                   \n",
       "3                                                  0                   \n",
       "4                                                  0                   \n",
       "\n",
       "   Gap/can't remember  Unable to code activity at 1st tier  \n",
       "0                   0                                    0  \n",
       "1                   0                                    0  \n",
       "2                   0                                    0  \n",
       "3                   0                                    0  \n",
       "4                   0                                    0  \n",
       "\n",
       "[5 rows x 409 columns]"
      ]
     },
     "execution_count": 35,
     "metadata": {},
     "output_type": "execute_result"
    }
   ],
   "source": [
    "summary.head(5)"
   ]
  },
  {
   "cell_type": "code",
   "execution_count": 36,
   "metadata": {
    "collapsed": false
   },
   "outputs": [
    {
     "data": {
      "text/plain": [
       "Index(['case_id', 'stat_weight', 'age_youngest_child', 'age', 'sex',\n",
       "       'high_lvl_edu', 'race', 'hisp', 'metro', 'labor_status', \n",
       "       ...\n",
       "       'Travel related to phone calls', 'Travel rel. to phone calls, n.e.c.*',\n",
       "       'Security procedures related to traveling',\n",
       "       'Security procedures related to traveling, n.e.c.*',\n",
       "       'Traveling, n.e.c.*', 'Insufficient detail in verbatim',\n",
       "       'Missing travel or destination',\n",
       "       'Respondent refused to provide information/'none of your business'',\n",
       "       'Gap/can't remember', 'Unable to code activity at 1st tier'],\n",
       "      dtype='object', length=409)"
      ]
     },
     "execution_count": 36,
     "metadata": {},
     "output_type": "execute_result"
    }
   ],
   "source": [
    "summary.keys()"
   ]
  },
  {
   "cell_type": "markdown",
   "metadata": {},
   "source": [
    "## Level of Schooling by Sex"
   ]
  },
  {
   "cell_type": "code",
   "execution_count": 37,
   "metadata": {
    "collapsed": false
   },
   "outputs": [
    {
     "data": {
      "text/plain": [
       "16"
      ]
     },
     "execution_count": 37,
     "metadata": {},
     "output_type": "execute_result"
    }
   ],
   "source": [
    "len(summary.high_lvl_edu.unique())"
   ]
  },
  {
   "cell_type": "code",
   "execution_count": 38,
   "metadata": {
    "collapsed": false
   },
   "outputs": [
    {
     "data": {
      "text/plain": [
       "11592"
      ]
     },
     "execution_count": 38,
     "metadata": {},
     "output_type": "execute_result"
    }
   ],
   "source": [
    "schooling = summary[['high_lvl_edu', 'sex']]\n",
    "schooling.tail()\n",
    "\n",
    "highest_edu_lvl = schooling['high_lvl_edu']\n",
    "highest_edu_lvl.count()\n",
    "# highest_edu_lvl.plot(title='Highest Level of Schooling Attained', kind='bar')"
   ]
  },
  {
   "cell_type": "code",
   "execution_count": 39,
   "metadata": {
    "collapsed": false,
    "scrolled": true
   },
   "outputs": [
    {
     "data": {
      "text/html": [
       "<div>\n",
       "<table border=\"1\" class=\"dataframe\">\n",
       "  <thead>\n",
       "    <tr style=\"text-align: right;\">\n",
       "      <th></th>\n",
       "      <th>sex_x</th>\n",
       "      <th>sex_y</th>\n",
       "    </tr>\n",
       "    <tr>\n",
       "      <th>high_lvl_edu</th>\n",
       "      <th></th>\n",
       "      <th></th>\n",
       "    </tr>\n",
       "  </thead>\n",
       "  <tbody>\n",
       "    <tr>\n",
       "      <th>31</th>\n",
       "      <td>8</td>\n",
       "      <td>11</td>\n",
       "    </tr>\n",
       "    <tr>\n",
       "      <th>32</th>\n",
       "      <td>42</td>\n",
       "      <td>27</td>\n",
       "    </tr>\n",
       "    <tr>\n",
       "      <th>33</th>\n",
       "      <td>74</td>\n",
       "      <td>66</td>\n",
       "    </tr>\n",
       "    <tr>\n",
       "      <th>34</th>\n",
       "      <td>121</td>\n",
       "      <td>115</td>\n",
       "    </tr>\n",
       "    <tr>\n",
       "      <th>35</th>\n",
       "      <td>131</td>\n",
       "      <td>138</td>\n",
       "    </tr>\n",
       "    <tr>\n",
       "      <th>36</th>\n",
       "      <td>161</td>\n",
       "      <td>153</td>\n",
       "    </tr>\n",
       "    <tr>\n",
       "      <th>37</th>\n",
       "      <td>173</td>\n",
       "      <td>178</td>\n",
       "    </tr>\n",
       "    <tr>\n",
       "      <th>38</th>\n",
       "      <td>65</td>\n",
       "      <td>59</td>\n",
       "    </tr>\n",
       "    <tr>\n",
       "      <th>39</th>\n",
       "      <td>1630</td>\n",
       "      <td>1263</td>\n",
       "    </tr>\n",
       "    <tr>\n",
       "      <th>40</th>\n",
       "      <td>1138</td>\n",
       "      <td>880</td>\n",
       "    </tr>\n",
       "    <tr>\n",
       "      <th>41</th>\n",
       "      <td>290</td>\n",
       "      <td>207</td>\n",
       "    </tr>\n",
       "    <tr>\n",
       "      <th>42</th>\n",
       "      <td>432</td>\n",
       "      <td>242</td>\n",
       "    </tr>\n",
       "    <tr>\n",
       "      <th>43</th>\n",
       "      <td>1376</td>\n",
       "      <td>1060</td>\n",
       "    </tr>\n",
       "    <tr>\n",
       "      <th>44</th>\n",
       "      <td>659</td>\n",
       "      <td>502</td>\n",
       "    </tr>\n",
       "    <tr>\n",
       "      <th>45</th>\n",
       "      <td>75</td>\n",
       "      <td>94</td>\n",
       "    </tr>\n",
       "    <tr>\n",
       "      <th>46</th>\n",
       "      <td>93</td>\n",
       "      <td>129</td>\n",
       "    </tr>\n",
       "  </tbody>\n",
       "</table>\n",
       "</div>"
      ],
      "text/plain": [
       "              sex_x  sex_y\n",
       "high_lvl_edu              \n",
       "31                8     11\n",
       "32               42     27\n",
       "33               74     66\n",
       "34              121    115\n",
       "35              131    138\n",
       "36              161    153\n",
       "37              173    178\n",
       "38               65     59\n",
       "39             1630   1263\n",
       "40             1138    880\n",
       "41              290    207\n",
       "42              432    242\n",
       "43             1376   1060\n",
       "44              659    502\n",
       "45               75     94\n",
       "46               93    129"
      ]
     },
     "execution_count": 39,
     "metadata": {},
     "output_type": "execute_result"
    }
   ],
   "source": [
    "female = schooling[schooling.sex==1].groupby('high_lvl_edu').count().reset_index()\n",
    "male = schooling[schooling.sex==2].groupby('high_lvl_edu').count().reset_index()\n",
    "\n",
    "school_by_sex = pd.merge(male, female, on='high_lvl_edu')\n",
    "school_by_sex.pivot_table(index='high_lvl_edu')\n"
   ]
  },
  {
   "cell_type": "code",
   "execution_count": 45,
   "metadata": {
    "collapsed": false
   },
   "outputs": [
    {
     "data": {
      "image/png": "[encoded data removed]",
      "text/plain": [
       "<matplotlib.figure.Figure at 0x108236b38>"
      ]
     },
     "metadata": {},
     "output_type": "display_data"
    }
   ],
   "source": [
    "school_by_sex.high_lvl_edu.value_counts()\n",
    "\n",
    "school_by_sex.plot(title='Highest Level of Schooling by Sex', legend=True, kind='bar')\n",
    "plt.xlabel('Higest level of schooling')\n",
    "plt.ylabel('Number of respondents')\n",
    "plt.show()"
   ]
  },
  {
   "cell_type": "markdown",
   "metadata": {},
   "source": [
    "## Number of Persons Working Full-time and also Using Interior Cleaning Services\n",
    "We can see below that there are 3009 female and 2542 male respondents who are working full-time at the time of the survey.  How many respondents use interior cleaning services?"
   ]
  },
  {
   "cell_type": "code",
   "execution_count": null,
   "metadata": {
    "collapsed": false,
    "scrolled": true
   },
   "outputs": [],
   "source": [
    "ft_work = summary[summary['ft_pt'] == 1]\n",
    "ft_work.sex.value_counts()"
   ]
  },
  {
   "cell_type": "code",
   "execution_count": null,
   "metadata": {
    "collapsed": false
   },
   "outputs": [],
   "source": [
    "cleaning_crew = summary[summary['Using interior cleaning services'] > 0]\n",
    "cleaning_mean = cleaning_crew.mean()\n",
    "# laundry = summary[summary['t020102'] > 0]\n",
    "# laundry_mean = laundry['t020102'].mean()"
   ]
  },
  {
   "cell_type": "code",
   "execution_count": null,
   "metadata": {
    "collapsed": false
   },
   "outputs": [],
   "source": []
  },
  {
   "cell_type": "code",
   "execution_count": null,
   "metadata": {
    "collapsed": true
   },
   "outputs": [],
   "source": []
  },
  {
   "cell_type": "code",
   "execution_count": null,
   "metadata": {
    "collapsed": true
   },
   "outputs": [],
   "source": []
  },
  {
   "cell_type": "code",
   "execution_count": null,
   "metadata": {
    "collapsed": true
   },
   "outputs": [],
   "source": []
  }
 ],
 "metadata": {
  "kernelspec": {
   "display_name": "Python 3",
   "language": "python",
   "name": "python3"
  },
  "language_info": {
   "codemirror_mode": {
    "name": "ipython",
    "version": 3
   },
   "file_extension": ".py",
   "mimetype": "text/x-python",
   "name": "python",
   "nbconvert_exporter": "python",
   "pygments_lexer": "ipython3",
   "version": "3.4.3"
  }
 },
 "nbformat": 4,
 "nbformat_minor": 0
}
